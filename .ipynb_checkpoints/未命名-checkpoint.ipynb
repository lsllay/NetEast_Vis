{
 "cells": [
  {
   "cell_type": "markdown",
   "metadata": {},
   "source": [
    "## Get Song"
   ]
  },
  {
   "cell_type": "code",
   "execution_count": 13,
   "metadata": {},
   "outputs": [],
   "source": [
    "import requests\n",
    "import re\n",
    "from bs4 import BeautifulSoup\n",
    "import urllib.request as urllib2\n",
    "import pandas as pd\n",
    "from unidecode import unidecode"
   ]
  },
  {
   "cell_type": "code",
   "execution_count": 94,
   "metadata": {},
   "outputs": [],
   "source": [
    "def GetSong(SingerID = 45129):\n",
    "    url = 'https://music.163.com/artist?id=' + str(SingerID)\n",
    "    \n",
    "    page = urllib2.urlopen(url)\n",
    "    \n",
    "    soup = BeautifulSoup(page,'html.parser')\n",
    "    \n",
    "    hotsong_list = soup.find(id='hotsong-list')\n",
    "\n",
    "    hotsong_list = hotsong_list.find_all('ul')\n",
    "\n",
    "    content = str(hotsong_list[0])\n",
    "\n",
    "    content1 = content.replace('</a></li>','\\n')\n",
    "\n",
    "    content2 = re.findall(r'id=(.+)\">(.+)',content1)\n",
    "    \n",
    "    Id2Song = {int(x[0].strip()):re.sub(u\"\\\\(.*?\\\\)|\\\\{.*?}|\\\\[.*?]\", \"\", x[1].strip() ).strip()for x in content2}\n",
    "    \n",
    "    Song2Id = {}\n",
    "    for id in Id2Song:\n",
    "        song = Id2Song[id]\n",
    "        if song in Song2Id:\n",
    "            continue\n",
    "        else:\n",
    "            Song2Id[song] = id\n",
    "    return Id2Song,Song2Id"
   ]
  },
  {
   "cell_type": "code",
   "execution_count": 95,
   "metadata": {},
   "outputs": [],
   "source": [
    "Id2Song,Song2Id = GetSong()"
   ]
  },
  {
   "cell_type": "code",
   "execution_count": 99,
   "metadata": {},
   "outputs": [
    {
     "data": {
      "text/plain": [
       "{'There For You': 480426313,\n",
       " 'for him.': 37955044,\n",
       " 'YOUTH': 36668810,\n",
       " 'Strawberries &amp; Cigarettes': 544247584,\n",
       " 'BLUE': 37955047,\n",
       " \"i'm so tired...\": 1339216146,\n",
       " 'FOOLS': 34383213,\n",
       " '1999': 1314780499,\n",
       " 'WILD': 418550450,\n",
       " 'LOST BOY': 37988002,\n",
       " 'My My My!': 542679120,\n",
       " 'EASE': 441107979,\n",
       " 'TALK ME DOWN': 35437414,\n",
       " 'SUBURBIA': 37955045,\n",
       " 'HEAVEN': 37857000,\n",
       " 'Somebody To Love': 1322195253,\n",
       " 'for him': 419254976,\n",
       " 'Happy Little Pill': 28850248,\n",
       " 'Someone Like You': 36496637,\n",
       " 'There for You': 493276825,\n",
       " 'Touch': 28947006,\n",
       " 'SWIMMING POOLS': 37988124,\n",
       " 'COOL': 37988001,\n",
       " 'Fun': 28947007,\n",
       " 'BITE': 35448203,\n",
       " 'Bloom': 556204150,\n",
       " 'Papercut': 32019009,\n",
       " 'Revelation': 1318571311,\n",
       " 'Youth': 414670127,\n",
       " 'Gasoline': 28947008,\n",
       " 'The One That Got Away': 34200871,\n",
       " 'Dance To This': 573240010,\n",
       " 'Seventeen': 1305364095,\n",
       " 'Hands to Myself &amp; Sorry': 420134159,\n",
       " 'Lucky Strike': 1305366110,\n",
       " 'Animal': 1299557768,\n",
       " 'The Good Side': 531623073,\n",
       " 'The Fault In Our Stars': 28947009,\n",
       " 'HAPPY LITTLE PILL': 37955165,\n",
       " 'TOO GOOD': 37988003,\n",
       " 'Postcard': 1305364096,\n",
       " 'What A Heavenly Way To Die': 1305364097,\n",
       " 'THE QUIET': 35448204,\n",
       " 'The Fault in Our Stars': 34338049,\n",
       " 'Plum': 1305366109,\n",
       " 'Make You Love Me': 36509754,\n",
       " 'DKLA': 35447184,\n",
       " 'Somebody To Love Me': 451113161,\n",
       " \"We're My OTP\": 35779322,\n",
       " 'Talk Me Down': 419250977}"
      ]
     },
     "execution_count": 99,
     "metadata": {},
     "output_type": "execute_result"
    }
   ],
   "source": [
    "Song2Id"
   ]
  },
  {
   "cell_type": "markdown",
   "metadata": {},
   "source": [
    "## Get Lyrics"
   ]
  },
  {
   "cell_type": "code",
   "execution_count": 98,
   "metadata": {},
   "outputs": [],
   "source": [
    "def get_lyrics(Songid):\n",
    "    url = 'http://music.163.com/api/song/lyric?id=' + str(Songid)+ '&lv=1&kv=1&tv=-1'\n",
    "    page = urllib2.urlopen(url)\n",
    "    \n",
    "    soup = BeautifulSoup(page,'html.parser')\n",
    "    \n",
    "    "
   ]
  },
  {
   "cell_type": "code",
   "execution_count": 100,
   "metadata": {},
   "outputs": [],
   "source": [
    "url = 'http://music.163.com/api/song/lyric?id=' + str(37955044)+ '&lv=1&kv=1&tv=-1'\n",
    "page = urllib2.urlopen(url)\n",
    "soup = BeautifulSoup(page,'html.parser')"
   ]
  },
  {
   "cell_type": "code",
   "execution_count": 113,
   "metadata": {},
   "outputs": [],
   "source": [
    "content = str(soup).replace('‘|’',\"'\").replace('“|”',\"\\\"\").replace(r'\\\\n','\\n')"
   ]
  },
  {
   "cell_type": "code",
   "execution_count": 137,
   "metadata": {},
   "outputs": [],
   "source": [
    "content1 = re.findall('\\[\\d\\d:.+]',content)[0].split(r'\\n')"
   ]
  },
  {
   "cell_type": "code",
   "execution_count": 141,
   "metadata": {},
   "outputs": [],
   "source": [
    "zh_pattern = re.compile(u'[\\u4e00-\\u9fa5]+')"
   ]
  },
  {
   "cell_type": "code",
   "execution_count": 146,
   "metadata": {},
   "outputs": [],
   "source": [
    "lyrics = [re.findall('\\[.+\\](.+)',x) for x in content1 if len(re.findall('\\[.+\\](.+)',x)) > 0 and not zh_pattern.search(x)]"
   ]
  },
  {
   "cell_type": "code",
   "execution_count": 197,
   "metadata": {},
   "outputs": [],
   "source": [
    "lyric = ''\n",
    "for sent in lyrics:\n",
    "    sent = str(sent).replace('[','').replace(']','').replace('\"',\"'\")\n",
    "    lyric = lyric + sent + '.'"
   ]
  },
  {
   "cell_type": "code",
   "execution_count": null,
   "metadata": {},
   "outputs": [],
   "source": []
  },
  {
   "cell_type": "code",
   "execution_count": 202,
   "metadata": {},
   "outputs": [
    {
     "data": {
      "text/plain": [
       "[\"'We\", 'are', \"runnin'\", 'so', \"fast'\"]"
      ]
     },
     "execution_count": 202,
     "metadata": {},
     "output_type": "execute_result"
    }
   ],
   "source": [
    "lyric.split('.')[0].split(' ')"
   ]
  },
  {
   "cell_type": "code",
   "execution_count": null,
   "metadata": {},
   "outputs": [],
   "source": []
  }
 ],
 "metadata": {
  "kernelspec": {
   "display_name": "py37",
   "language": "python",
   "name": "py37"
  },
  "language_info": {
   "codemirror_mode": {
    "name": "ipython",
    "version": 3
   },
   "file_extension": ".py",
   "mimetype": "text/x-python",
   "name": "python",
   "nbconvert_exporter": "python",
   "pygments_lexer": "ipython3",
   "version": "3.7.3"
  }
 },
 "nbformat": 4,
 "nbformat_minor": 4
}
