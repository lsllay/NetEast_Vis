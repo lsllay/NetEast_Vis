{
 "cells": [
  {
   "cell_type": "markdown",
   "metadata": {},
   "source": [
    "## Get Song"
   ]
  },
  {
   "cell_type": "code",
   "execution_count": 1,
   "metadata": {},
   "outputs": [],
   "source": [
    "import requests\n",
    "import re\n",
    "from bs4 import BeautifulSoup\n",
    "import urllib.request as urllib2\n",
    "import pandas as pd\n",
    "from unidecode import unidecode"
   ]
  },
  {
   "cell_type": "code",
   "execution_count": 2,
   "metadata": {},
   "outputs": [],
   "source": [
    "def GetSong(SingerID = 45129):\n",
    "    url = 'https://music.163.com/artist?id=' + str(SingerID)\n",
    "    \n",
    "    page = urllib2.urlopen(url)\n",
    "    \n",
    "    soup = BeautifulSoup(page,'html.parser')\n",
    "    \n",
    "    hotsong_list = soup.find(id='hotsong-list')\n",
    "\n",
    "    hotsong_list = hotsong_list.find_all('ul')\n",
    "\n",
    "    content = str(hotsong_list[0])\n",
    "\n",
    "    content1 = content.replace('</a></li>','\\n')\n",
    "\n",
    "    content2 = re.findall(r'id=(.+)\">(.+)',content1)\n",
    "    \n",
    "    Id2Song = {int(x[0].strip()):re.sub(u\"\\\\(.*?\\\\)|\\\\{.*?}|\\\\[.*?]\", \"\", x[1].strip() ).strip()for x in content2}\n",
    "    \n",
    "    Song2Id = {}\n",
    "    for id in Id2Song:\n",
    "        song = Id2Song[id]\n",
    "        if song in Song2Id:\n",
    "            continue\n",
    "        else:\n",
    "            Song2Id[song] = id\n",
    "    return Id2Song,Song2Id"
   ]
  },
  {
   "cell_type": "code",
   "execution_count": 3,
   "metadata": {},
   "outputs": [],
   "source": [
    "Id2Song,Song2Id = GetSong()"
   ]
  },
  {
   "cell_type": "code",
   "execution_count": 4,
   "metadata": {},
   "outputs": [
    {
     "data": {
      "text/plain": [
       "{'There For You': 480426313,\n",
       " 'for him.': 37955044,\n",
       " 'YOUTH': 36668810,\n",
       " 'Strawberries &amp; Cigarettes': 544247584,\n",
       " 'BLUE': 37955047,\n",
       " \"i'm so tired...\": 1339216146,\n",
       " 'FOOLS': 34383213,\n",
       " '1999': 1314780499,\n",
       " 'WILD': 418550450,\n",
       " 'LOST BOY': 37988002,\n",
       " 'My My My!': 542679120,\n",
       " 'EASE': 441107979,\n",
       " 'TALK ME DOWN': 35437414,\n",
       " 'SUBURBIA': 37955045,\n",
       " 'HEAVEN': 37857000,\n",
       " 'Somebody To Love': 1322195253,\n",
       " 'for him': 419254976,\n",
       " 'Happy Little Pill': 28850248,\n",
       " 'Someone Like You': 36496637,\n",
       " 'There for You': 493276825,\n",
       " 'Touch': 28947006,\n",
       " 'SWIMMING POOLS': 37988124,\n",
       " 'COOL': 37988001,\n",
       " 'Fun': 28947007,\n",
       " 'BITE': 35448203,\n",
       " 'Bloom': 556204150,\n",
       " 'Papercut': 32019009,\n",
       " 'Revelation': 1318571311,\n",
       " 'Youth': 414670127,\n",
       " 'Gasoline': 28947008,\n",
       " 'The One That Got Away': 34200871,\n",
       " 'Dance To This': 573240010,\n",
       " 'Seventeen': 1305364095,\n",
       " 'Hands to Myself &amp; Sorry': 420134159,\n",
       " 'Lucky Strike': 1305366110,\n",
       " 'Animal': 1299557768,\n",
       " 'The Good Side': 531623073,\n",
       " 'The Fault In Our Stars': 28947009,\n",
       " 'HAPPY LITTLE PILL': 37955165,\n",
       " 'TOO GOOD': 37988003,\n",
       " 'Postcard': 1305364096,\n",
       " 'What A Heavenly Way To Die': 1305364097,\n",
       " 'THE QUIET': 35448204,\n",
       " 'The Fault in Our Stars': 34338049,\n",
       " 'Plum': 1305366109,\n",
       " 'Make You Love Me': 36509754,\n",
       " 'DKLA': 35447184,\n",
       " 'Somebody To Love Me': 451113161,\n",
       " \"We're My OTP\": 35779322,\n",
       " 'Talk Me Down': 419250977}"
      ]
     },
     "execution_count": 4,
     "metadata": {},
     "output_type": "execute_result"
    }
   ],
   "source": [
    "Song2Id"
   ]
  },
  {
   "cell_type": "markdown",
   "metadata": {},
   "source": [
    "## Get Lyrics"
   ]
  },
  {
   "cell_type": "code",
   "execution_count": 17,
   "metadata": {},
   "outputs": [],
   "source": [
    "zh_pattern = re.compile(u'[\\u4e00-\\u9fa5]+')"
   ]
  },
  {
   "cell_type": "code",
   "execution_count": 20,
   "metadata": {},
   "outputs": [],
   "source": [
    "def get_lyric(Songid):\n",
    "    url = 'http://music.163.com/api/song/lyric?id=' + str(Songid)+ '&lv=1&kv=1&tv=-1'\n",
    "    page = urllib2.urlopen(url)\n",
    "    \n",
    "    soup = BeautifulSoup(page,'html.parser')\n",
    "    \n",
    "    content = str(soup).replace('‘|’',\"'\").replace('“|”',\"\\\"\").replace(r'\\\\n','\\n')\n",
    "\n",
    "    content1 = re.findall('\\[\\d\\d:.+]',content)[0].split(r'\\n')\n",
    "\n",
    "\n",
    "\n",
    "    lyrics = [re.findall('\\[.+\\](.+)',x) for x in content1 if len(re.findall('\\[.+\\](.+)',x)) > 0 and not zh_pattern.search(x)]\n",
    "\n",
    "    lyric = ''\n",
    "    for sent in lyrics:\n",
    "        sent = str(sent).replace('[','').replace(']','').replace('\"',\"\").strip(\"'\")\n",
    "        lyric = lyric + sent + '.'\n",
    "    return lyric"
   ]
  },
  {
   "cell_type": "code",
   "execution_count": 202,
   "metadata": {},
   "outputs": [
    {
     "data": {
      "text/plain": [
       "[\"'We\", 'are', \"runnin'\", 'so', \"fast'\"]"
      ]
     },
     "execution_count": 202,
     "metadata": {},
     "output_type": "execute_result"
    }
   ],
   "source": [
    "lyric.split('.')[0].split(' ')"
   ]
  },
  {
   "cell_type": "code",
   "execution_count": 21,
   "metadata": {},
   "outputs": [
    {
     "data": {
      "text/plain": [
       "\"Love it's hard, I know.All your lights are red, but I'm green to go.Used to see you high, now you're only low.All your lights are red but I'm green to go.I want you.I'll colour me blue.Anything it takes to make you stay.Only seeing myself.When I'm looking up at you.I want you.I'll colour me blue.Anything it takes to make you stay.Only seeing myself.When I'm looking up at you.I can't say no.Though the lights are on.There's nobody home.Swore I'd never lose control.Then I fell in love with a heart that beats so slow.I want you.I'll colour me blue.Anything it takes to make you stay.Only seeing myself.When I'm looking up at you.I want you.I'll colour me blue.Anything it takes to make you stay.Only seeing myself.When I'm looking up at you.I know you're seeing black and white.So I'll paint you a clear blue sky.Without you I am colour-blind.It's raining every time I open my eyes.I know you're seeing black and white.So I'll paint you a clear blue sky.Without you I am colour-blind.It's raining every time I open my eyes.I want you.I'll colour me blue.Only seeing myself.When I'm looking up at you.When I'm looking up at you.I want you.I'll colour me blue.Anything it takes to make you stay.Only seeing myself.When I'm looking up at you.I want you.I'll colour me blue.Anything it takes to make you stay.Only seeing myself.When I'm looking up at you.I want you.I'll colour me blue.Anything it takes to make you stay.Only seeing myself.When I'm looking up at you.\""
      ]
     },
     "execution_count": 21,
     "metadata": {},
     "output_type": "execute_result"
    }
   ],
   "source": [
    "get_lyric(37955047)"
   ]
  },
  {
   "cell_type": "markdown",
   "metadata": {},
   "source": [
    "## Save To CSV"
   ]
  },
  {
   "cell_type": "code",
   "execution_count": 27,
   "metadata": {},
   "outputs": [],
   "source": [
    "import csv\n",
    "import pandas as pd"
   ]
  },
  {
   "cell_type": "code",
   "execution_count": 28,
   "metadata": {},
   "outputs": [],
   "source": [
    "def save_to_csv(filename):\n",
    "    with open(filename,'w',encoding='utf-8') as f:\n",
    "        writer = csv.writer(f)\n",
    "        writer.writerow(['Song','SongID','Lyric'])\n",
    "        for id in Id2Song:\n",
    "            song = Id2Song[id]\n",
    "            Lyric = get_lyric(id)\n",
    "            writer.writerow([song,id,Lyric])"
   ]
  },
  {
   "cell_type": "code",
   "execution_count": 24,
   "metadata": {},
   "outputs": [],
   "source": []
  },
  {
   "cell_type": "code",
   "execution_count": 25,
   "metadata": {},
   "outputs": [],
   "source": [
    "data = pd.read_csv('test.csv')"
   ]
  },
  {
   "cell_type": "code",
   "execution_count": 26,
   "metadata": {},
   "outputs": [
    {
     "data": {
      "text/html": [
       "<div>\n",
       "<style scoped>\n",
       "    .dataframe tbody tr th:only-of-type {\n",
       "        vertical-align: middle;\n",
       "    }\n",
       "\n",
       "    .dataframe tbody tr th {\n",
       "        vertical-align: top;\n",
       "    }\n",
       "\n",
       "    .dataframe thead th {\n",
       "        text-align: right;\n",
       "    }\n",
       "</style>\n",
       "<table border=\"1\" class=\"dataframe\">\n",
       "  <thead>\n",
       "    <tr style=\"text-align: right;\">\n",
       "      <th></th>\n",
       "      <th>Song</th>\n",
       "      <th>SongID</th>\n",
       "      <th>Lyric</th>\n",
       "    </tr>\n",
       "  </thead>\n",
       "  <tbody>\n",
       "    <tr>\n",
       "      <th>0</th>\n",
       "      <td>There For You</td>\n",
       "      <td>480426313</td>\n",
       "      <td>I woke up pissed off today.And lately, everyon...</td>\n",
       "    </tr>\n",
       "    <tr>\n",
       "      <th>1</th>\n",
       "      <td>for him.</td>\n",
       "      <td>37955044</td>\n",
       "      <td>We are runnin' so fast.And we never look back....</td>\n",
       "    </tr>\n",
       "    <tr>\n",
       "      <th>2</th>\n",
       "      <td>YOUTH</td>\n",
       "      <td>36668810</td>\n",
       "      <td>What if, what if we run away?.What if, what if...</td>\n",
       "    </tr>\n",
       "    <tr>\n",
       "      <th>3</th>\n",
       "      <td>Strawberries &amp;amp; Cigarettes</td>\n",
       "      <td>544247584</td>\n",
       "      <td>Remember when we first met?.You said “light my...</td>\n",
       "    </tr>\n",
       "    <tr>\n",
       "      <th>4</th>\n",
       "      <td>BLUE</td>\n",
       "      <td>37955047</td>\n",
       "      <td>Love it's hard, I know.All your lights are red...</td>\n",
       "    </tr>\n",
       "    <tr>\n",
       "      <th>5</th>\n",
       "      <td>i'm so tired...</td>\n",
       "      <td>1339216146</td>\n",
       "      <td>I’m so tired of love songs.Tired of love songs...</td>\n",
       "    </tr>\n",
       "    <tr>\n",
       "      <th>6</th>\n",
       "      <td>FOOLS</td>\n",
       "      <td>34383213</td>\n",
       "      <td>I am tired of this place, I hope people change...</td>\n",
       "    </tr>\n",
       "    <tr>\n",
       "      <th>7</th>\n",
       "      <td>1999</td>\n",
       "      <td>1314780499</td>\n",
       "      <td>I just wanna go back, back to 1999.Took a ride...</td>\n",
       "    </tr>\n",
       "    <tr>\n",
       "      <th>8</th>\n",
       "      <td>WILD</td>\n",
       "      <td>418550450</td>\n",
       "      <td>Trying hard not to fall.On the way home.You we...</td>\n",
       "    </tr>\n",
       "    <tr>\n",
       "      <th>9</th>\n",
       "      <td>LOST BOY</td>\n",
       "      <td>37988002</td>\n",
       "      <td>As the smile fell from your face, I fell with ...</td>\n",
       "    </tr>\n",
       "  </tbody>\n",
       "</table>\n",
       "</div>"
      ],
      "text/plain": [
       "                            Song      SongID  \\\n",
       "0                  There For You   480426313   \n",
       "1                       for him.    37955044   \n",
       "2                          YOUTH    36668810   \n",
       "3  Strawberries &amp; Cigarettes   544247584   \n",
       "4                           BLUE    37955047   \n",
       "5                i'm so tired...  1339216146   \n",
       "6                          FOOLS    34383213   \n",
       "7                           1999  1314780499   \n",
       "8                           WILD   418550450   \n",
       "9                       LOST BOY    37988002   \n",
       "\n",
       "                                               Lyric  \n",
       "0  I woke up pissed off today.And lately, everyon...  \n",
       "1  We are runnin' so fast.And we never look back....  \n",
       "2  What if, what if we run away?.What if, what if...  \n",
       "3  Remember when we first met?.You said “light my...  \n",
       "4  Love it's hard, I know.All your lights are red...  \n",
       "5  I’m so tired of love songs.Tired of love songs...  \n",
       "6  I am tired of this place, I hope people change...  \n",
       "7  I just wanna go back, back to 1999.Took a ride...  \n",
       "8  Trying hard not to fall.On the way home.You we...  \n",
       "9  As the smile fell from your face, I fell with ...  "
      ]
     },
     "execution_count": 26,
     "metadata": {},
     "output_type": "execute_result"
    }
   ],
   "source": [
    "data.head(10)"
   ]
  },
  {
   "cell_type": "code",
   "execution_count": null,
   "metadata": {},
   "outputs": [],
   "source": []
  }
 ],
 "metadata": {
  "kernelspec": {
   "display_name": "py37",
   "language": "python",
   "name": "py37"
  },
  "language_info": {
   "codemirror_mode": {
    "name": "ipython",
    "version": 3
   },
   "file_extension": ".py",
   "mimetype": "text/x-python",
   "name": "python",
   "nbconvert_exporter": "python",
   "pygments_lexer": "ipython3",
   "version": "3.7.3"
  }
 },
 "nbformat": 4,
 "nbformat_minor": 4
}
